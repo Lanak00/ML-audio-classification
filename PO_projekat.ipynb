{
 "cells": [
  {
   "cell_type": "code",
   "execution_count": 1,
   "id": "db109a28",
   "metadata": {},
   "outputs": [],
   "source": [
    "import pandas as pd\n",
    "\n",
    "cry = pd.read_csv(\"cry_final.feats.txt\")\n",
    "\n",
    "laugh = pd.read_csv(\"laugh_final.feats.txt\")\n",
    "\n",
    "neutral = pd.read_csv(\"neutral_final.feats.txt\")"
   ]
  },
  {
   "cell_type": "code",
   "execution_count": 6,
   "id": "7c4f2d1d",
   "metadata": {},
   "outputs": [
    {
     "name": "stdout",
     "output_type": "stream",
     "text": [
      "(21, 76)\n",
      "(18, 76)\n",
      "(25, 76)\n"
     ]
    }
   ],
   "source": [
    "print(cry.shape)\n",
    "print(laugh.shape)\n",
    "print(neutral.shape)"
   ]
  },
  {
   "cell_type": "code",
   "execution_count": 8,
   "id": "0dfb72f6",
   "metadata": {},
   "outputs": [
    {
     "name": "stdout",
     "output_type": "stream",
     "text": [
      "0\n",
      "0\n",
      "0\n"
     ]
    }
   ],
   "source": [
    "print(cry.isnull().sum().sum())\n",
    "print(laugh.isnull().sum().sum())\n",
    "print(neutral.isnull().sum().sum())"
   ]
  },
  {
   "cell_type": "markdown",
   "id": "e8b0d5bf",
   "metadata": {},
   "source": [
    "U svakom df 75 kolona (5 statistickih vrednosti za svako od 15 obelezja) + klasifikaciono obelezje (cry/laugh/neutral)\n",
    "jedan red = jedan audio uzorak, nad kojim su uzimani prozori sirine 25ms sa preklapanjem od 10ms i racunata su obelezja\n",
    "za svaki prozor, pa su na nivou celog auzio uzorka izracunate statisticke vrednosti tih obelezja.\n",
    "Nema nedostajucih vrednosti zbog same prirode uzorkovanja."
   ]
  },
  {
   "cell_type": "code",
   "execution_count": null,
   "id": "8ef08952",
   "metadata": {},
   "outputs": [],
   "source": []
  }
 ],
 "metadata": {
  "kernelspec": {
   "display_name": "Python 3",
   "language": "python",
   "name": "python3"
  },
  "language_info": {
   "codemirror_mode": {
    "name": "ipython",
    "version": 3
   },
   "file_extension": ".py",
   "mimetype": "text/x-python",
   "name": "python",
   "nbconvert_exporter": "python",
   "pygments_lexer": "ipython3",
   "version": "3.8.8"
  }
 },
 "nbformat": 4,
 "nbformat_minor": 5
}
